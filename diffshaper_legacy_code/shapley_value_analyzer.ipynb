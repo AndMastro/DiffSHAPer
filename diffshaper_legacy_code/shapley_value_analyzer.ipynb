{
 "cells": [
  {
   "cell_type": "code",
   "execution_count": 1,
   "metadata": {},
   "outputs": [],
   "source": [
    "from sklearn.metrics import root_mean_squared_error, mean_squared_error \n",
    "import os"
   ]
  },
  {
   "cell_type": "markdown",
   "metadata": {},
   "source": [
    "## Graph Density"
   ]
  },
  {
   "cell_type": "code",
   "execution_count": 2,
   "metadata": {},
   "outputs": [
    {
     "name": "stdout",
     "output_type": "stream",
     "text": [
      "Sum values: [-60.60844848632813, -71.64455200195313, -61.53337463378905, -78.73636474609376, -74.4391015625, -82.64213256835939, -65.56752075195311, -59.71718750000001]\n",
      "Average distance values: [66.40446024781181, 73.77710545325279, 66.10138417243958, 83.53876265299948, 82.48956724744095, 91.57044650051328, 72.80805177140236, 74.09320447468758]\n",
      "Avg sum: -69.36108528137207\n",
      "Avg dist: 76.34787281506848\n"
     ]
    }
   ],
   "source": [
    "folder_path = 'results/explanations/explanations_graph_density'  # Replace with the actual folder path\n",
    "\n",
    "sum_values = []\n",
    "avg_distance_values = []\n",
    "\n",
    "# Get the list of files in the folder\n",
    "file_list = os.listdir(folder_path)\n",
    "\n",
    "# Iterate over each file\n",
    "for file_name in file_list:\n",
    "    file_path = os.path.join(folder_path, file_name)\n",
    "    \n",
    "    # Open the file\n",
    "    with open(file_path, 'r') as file:\n",
    "        lines = file.readlines()\n",
    "        \n",
    "        # Iterate over each line in the file\n",
    "        for i in range(len(lines)):\n",
    "            line = lines[i]\n",
    "            \n",
    "            # Check for the desired lines\n",
    "            if line.strip() == \"Sum of phi values for distance\":\n",
    "                # Get the value in the line after\n",
    "                sum_value = float(lines[i+1].strip())\n",
    "                sum_values.append(sum_value)\n",
    "            \n",
    "            elif line.strip() == \"Average distance random samples:\":\n",
    "                # Get the value in the line after\n",
    "                avg_distance_value = float(lines[i+1].strip())\n",
    "                avg_distance_values.append(avg_distance_value)\n",
    "\n",
    "print(\"Sum values:\", sum_values)\n",
    "print(\"Average distance values:\", avg_distance_values)\n",
    "print(\"Avg sum:\", sum(sum_values) / len(sum_values))\n",
    "print(\"Avg dist:\", sum(avg_distance_values) / len(avg_distance_values))"
   ]
  },
  {
   "cell_type": "code",
   "execution_count": 3,
   "metadata": {},
   "outputs": [
    {
     "data": {
      "text/plain": [
       "[60.60844848632813,\n",
       " 71.64455200195313,\n",
       " 61.53337463378905,\n",
       " 78.73636474609376,\n",
       " 74.4391015625,\n",
       " 82.64213256835939,\n",
       " 65.56752075195311,\n",
       " 59.71718750000001]"
      ]
     },
     "execution_count": 3,
     "metadata": {},
     "output_type": "execute_result"
    }
   ],
   "source": [
    "sum_values = [elem * (-1) for elem in sum_values]\n",
    "sum_values"
   ]
  },
  {
   "cell_type": "code",
   "execution_count": 4,
   "metadata": {},
   "outputs": [
    {
     "name": "stdout",
     "output_type": "stream",
     "text": [
      "RMSE: 7.791752163979061\n",
      "MSE: 60.711401784872386\n",
      "Average error: 6.986787533696408\n"
     ]
    }
   ],
   "source": [
    "rmse = root_mean_squared_error(avg_distance_values, sum_values)\n",
    "print(\"RMSE:\", rmse)\n",
    "mse = mean_squared_error(avg_distance_values, sum_values)\n",
    "print(\"MSE:\", mse)\n",
    "avg_error = sum([abs(avg_distance_values[i] - sum_values[i]) for i in range(len(avg_distance_values))]) / len(avg_distance_values)\n",
    "print(\"Average error:\", avg_error)"
   ]
  },
  {
   "cell_type": "markdown",
   "metadata": {},
   "source": [
    "## Node Density"
   ]
  },
  {
   "cell_type": "code",
   "execution_count": 5,
   "metadata": {},
   "outputs": [
    {
     "name": "stdout",
     "output_type": "stream",
     "text": [
      "Sum values: [-27.227184448242184, -17.32172546386719, -6.682323608398438, -8.834133911132813, -3.588141479492188, -10.035005493164062, -6.508301391601563, -5.502362670898437, -6.7718359375, -7.810294799804687, -6.04903564453125, -7.541106567382814, -12.991278686523435, -5.948226318359376, -5.030071716308593, -6.110368041992187, -10.4065869140625, -4.2965985107421885, -2.6993737792968755, -2.249112243652344, -9.675656127929688, -3.787633666992187, -7.919592285156251, -12.181284179687504, -18.597926635742184, -13.338483886718752, -11.745217285156249, -16.847464599609374, -8.47592010498047, -19.497022094726557]\n",
      "Average distance values: [8.148061573555072, 9.733508348941802, 7.24609537823995, 6.973598563600989, 4.740489014358747, 7.113013738632202, 3.749958751137284, 5.976675708726049, 7.792709663039759, 5.760871899298259, 3.5955731073416333, 8.191860242230552, 8.132230660574777, 4.8940737065956705, 3.4282172412086616, 10.44460787275563, 12.95521491936275, 3.683154213821346, 5.390559059506969, 4.024549633649917, 10.091689412991206, 8.816191714437384, 6.696602796372913, 11.503342640776383, 11.394530248641967, 13.004947209358216, 9.145735282182693, 10.44699397814274, 4.134488186929375, 7.995341108753568]\n",
      "Avg sum: -9.522308949788412\n",
      "Avg dist: 7.5068295291721485\n"
     ]
    }
   ],
   "source": [
    "import os\n",
    "\n",
    "folder_path = 'results/explanations/explanations_node_density'  # Replace with the actual folder path\n",
    "\n",
    "sum_values = []\n",
    "avg_distance_values = []\n",
    "\n",
    "# Get the list of files in the folder\n",
    "file_list = os.listdir(folder_path)\n",
    "\n",
    "# Iterate over each file\n",
    "for file_name in file_list:\n",
    "    file_path = os.path.join(folder_path, file_name)\n",
    "    \n",
    "    # Open the file\n",
    "    with open(file_path, 'r') as file:\n",
    "        lines = file.readlines()\n",
    "        \n",
    "        # Iterate over each line in the file\n",
    "        for i in range(len(lines)):\n",
    "            line = lines[i]\n",
    "            \n",
    "            # Check for the desired lines\n",
    "            if line.strip() == \"Sum of phi values for distance\":\n",
    "                # Get the value in the line after\n",
    "                sum_value = float(lines[i+1].strip())\n",
    "                sum_values.append(sum_value)\n",
    "            \n",
    "            elif line.strip() == \"Average distance random samples:\":\n",
    "                # Get the value in the line after\n",
    "                avg_distance_value = float(lines[i+1].strip())\n",
    "                avg_distance_values.append(avg_distance_value)\n",
    "\n",
    "print(\"Sum values:\", sum_values)\n",
    "print(\"Average distance values:\", avg_distance_values)\n",
    "print(\"Avg sum:\", sum(sum_values) / len(sum_values))\n",
    "print(\"Avg dist:\", sum(avg_distance_values) / len(avg_distance_values))"
   ]
  },
  {
   "cell_type": "code",
   "execution_count": 6,
   "metadata": {},
   "outputs": [
    {
     "name": "stdout",
     "output_type": "stream",
     "text": [
      "[27.227184448242184, 17.32172546386719, 6.682323608398438, 8.834133911132813, 3.588141479492188, 10.035005493164062, 6.508301391601563, 5.502362670898437, 6.7718359375, 7.810294799804687, 6.04903564453125, 7.541106567382814, 12.991278686523435, 5.948226318359376, 5.030071716308593, 6.110368041992187, 10.4065869140625, 4.2965985107421885, 2.6993737792968755, 2.249112243652344, 9.675656127929688, 3.787633666992187, 7.919592285156251, 12.181284179687504, 18.597926635742184, 13.338483886718752, 11.745217285156249, 16.847464599609374, 8.47592010498047, 19.497022094726557]\n"
     ]
    }
   ],
   "source": [
    "sum_values = [elem * (-1) for elem in sum_values]\n",
    "print(sum_values)"
   ]
  },
  {
   "cell_type": "code",
   "execution_count": 7,
   "metadata": {},
   "outputs": [
    {
     "name": "stdout",
     "output_type": "stream",
     "text": [
      "RMSE: 5.152257295389035\n",
      "MSE: 26.545755237889527\n",
      "Average error: 3.392555526063013\n"
     ]
    }
   ],
   "source": [
    "rmse = root_mean_squared_error(avg_distance_values, sum_values)\n",
    "print(\"RMSE:\", rmse)\n",
    "mse = mean_squared_error(avg_distance_values, sum_values)\n",
    "print(\"MSE:\", mse)\n",
    "avg_error = sum([abs(avg_distance_values[i] - sum_values[i]) for i in range(len(avg_distance_values))]) / len(avg_distance_values)\n",
    "print(\"Average error:\", avg_error)"
   ]
  },
  {
   "cell_type": "markdown",
   "metadata": {},
   "source": [
    "## Node-Edge Ratio"
   ]
  },
  {
   "cell_type": "code",
   "execution_count": 8,
   "metadata": {},
   "outputs": [
    {
     "name": "stdout",
     "output_type": "stream",
     "text": [
      "Sum values: [-29.573328857421874, -17.224795532226562, -7.551769409179689, -10.128291015625, -3.307567443847656, -10.401474609374999, -5.837839965820313, -5.49050323486328, -7.043564453125, -8.316649475097657, -6.202786560058594, -7.034466552734375, -14.156162109375, -8.305718078613282, -4.7618408203125, -6.5665216064453125, -9.879110107421877, -4.942931518554688, -3.050414733886719, -2.2296343994140626, -10.730411987304688, -3.3790295410156252, -7.456550903320314, -10.234312133789064, -18.771085205078123, -12.750985107421876, -12.143181762695313, -18.02927001953125, -8.616749877929688, -18.839201049804686]\n",
      "Average distance values: [7.780695027354218, 9.215783165693283, 7.102007835388184, 6.702053361535072, 4.585288318878129, 6.976411168575287, 3.5212168710780416, 5.874066246256232, 7.635501399416673, 5.556214668410165, 3.3543746260159155, 7.805358331544059, 7.742457927862803, 4.7109415580545155, 3.249475096155974, 10.297124972965406, 12.670612534795488, 3.440181543197144, 5.26368597984314, 3.876783637764125, 9.782972274025282, 8.624643466598108, 6.446485864207858, 11.084249692214163, 10.910545982310646, 12.646301158269246, 8.805127755761147, 9.957082850337029, 3.960387955432137, 7.493099123750414]\n",
      "Avg sum: -9.765204935709637\n",
      "Avg dist: 7.23570434645633\n"
     ]
    }
   ],
   "source": [
    "folder_path = 'results/explanations/explanations_node_edge_ratio'  # Replace with the actual folder path\n",
    "\n",
    "sum_values = []\n",
    "avg_distance_values = []\n",
    "\n",
    "# Get the list of files in the folder\n",
    "file_list = os.listdir(folder_path)\n",
    "\n",
    "# Iterate over each file\n",
    "for file_name in file_list:\n",
    "    file_path = os.path.join(folder_path, file_name)\n",
    "    \n",
    "    # Open the file\n",
    "    with open(file_path, 'r') as file:\n",
    "        lines = file.readlines()\n",
    "        \n",
    "        # Iterate over each line in the file\n",
    "        for i in range(len(lines)):\n",
    "            line = lines[i]\n",
    "            \n",
    "            # Check for the desired lines\n",
    "            if line.strip() == \"Sum of phi values for distance\":\n",
    "                # Get the value in the line after\n",
    "                sum_value = float(lines[i+1].strip())\n",
    "                sum_values.append(sum_value)\n",
    "            \n",
    "            elif line.strip() == \"Average distance random samples:\":\n",
    "                # Get the value in the line after\n",
    "                avg_distance_value = float(lines[i+1].strip())\n",
    "                avg_distance_values.append(avg_distance_value)\n",
    "\n",
    "print(\"Sum values:\", sum_values)\n",
    "print(\"Average distance values:\", avg_distance_values)\n",
    "print(\"Avg sum:\", sum(sum_values) / len(sum_values))\n",
    "print(\"Avg dist:\", sum(avg_distance_values) / len(avg_distance_values))"
   ]
  },
  {
   "cell_type": "code",
   "execution_count": 9,
   "metadata": {},
   "outputs": [
    {
     "name": "stdout",
     "output_type": "stream",
     "text": [
      "[29.573328857421874, 17.224795532226562, 7.551769409179689, 10.128291015625, 3.307567443847656, 10.401474609374999, 5.837839965820313, 5.49050323486328, 7.043564453125, 8.316649475097657, 6.202786560058594, 7.034466552734375, 14.156162109375, 8.305718078613282, 4.7618408203125, 6.5665216064453125, 9.879110107421877, 4.942931518554688, 3.050414733886719, 2.2296343994140626, 10.730411987304688, 3.3790295410156252, 7.456550903320314, 10.234312133789064, 18.771085205078123, 12.750985107421876, 12.143181762695313, 18.02927001953125, 8.616749877929688, 18.839201049804686]\n"
     ]
    }
   ],
   "source": [
    "sum_values = [elem * (-1) for elem in sum_values]\n",
    "print(sum_values)"
   ]
  },
  {
   "cell_type": "code",
   "execution_count": 10,
   "metadata": {},
   "outputs": [
    {
     "name": "stdout",
     "output_type": "stream",
     "text": [
      "RMSE: 5.753722170435978\n",
      "MSE: 33.1053188145665\n",
      "Average error: 3.8296466141688104\n"
     ]
    }
   ],
   "source": [
    "rmse = root_mean_squared_error(avg_distance_values, sum_values)\n",
    "print(\"RMSE:\", rmse)\n",
    "mse = mean_squared_error(avg_distance_values, sum_values)\n",
    "print(\"MSE:\", mse)\n",
    "avg_error = sum([abs(avg_distance_values[i] - sum_values[i]) for i in range(len(avg_distance_values))]) / len(avg_distance_values)\n",
    "print(\"Average error:\", avg_error)"
   ]
  },
  {
   "cell_type": "markdown",
   "metadata": {},
   "source": [
    "## P=0.5"
   ]
  },
  {
   "cell_type": "code",
   "execution_count": 11,
   "metadata": {},
   "outputs": [
    {
     "name": "stdout",
     "output_type": "stream",
     "text": [
      "Sum values: [-11.80882629394531, -13.250034790039063, -3.179254760742187, -10.517120361328125, -5.750085449218749, -6.609264526367188, -6.444218749999999, -4.68935791015625, -5.110208129882812, -4.653176879882813, -3.45201171875, -6.587821044921875, -6.160982055664062, -3.100856323242188, -3.8589630126953125, -7.1403369140625, -11.914337158203121, -11.21324432373047, -3.7583386230468747, -4.499682006835937, -5.833399658203124, -6.468785400390625, -8.125494384765625, -9.429094238281248, -10.8042236328125, -7.15398681640625, -10.199466552734375, -10.352747802734376, -4.152168273925781, -9.640040893554687]\n",
      "Average distance values: [9.83830631619408, 12.768759200334548, 8.515101826032003, 9.871575844428119, 6.624878867126647, 9.075659486889839, 5.839544806991788, 7.660065184473991, 9.414286984895405, 7.786463743050893, 4.886524037368157, 10.952694397313254, 10.960628663244702, 6.040731557891482, 4.791784771084785, 13.346397483245186, 16.105008694330852, 7.933199060559272, 7.198483666495273, 6.54175755856366, 12.478204629421235, 12.091134993402582, 9.707552852857681, 14.346223355845401, 14.656244971375717, 16.332540225717757, 12.612674385786056, 12.944423606872558, 5.201898426512877, 10.653764978476934]\n",
      "Avg sum: -7.195250956217448\n",
      "Avg dist: 9.90588381922609\n"
     ]
    }
   ],
   "source": [
    "folder_path = 'results/explanations/explanations_050'  # Replace with the actual folder path\n",
    "\n",
    "sum_values = []\n",
    "avg_distance_values = []\n",
    "\n",
    "# Get the list of files in the folder\n",
    "file_list = os.listdir(folder_path)\n",
    "\n",
    "# Iterate over each file\n",
    "for file_name in file_list:\n",
    "    file_path = os.path.join(folder_path, file_name)\n",
    "    \n",
    "    # Open the file\n",
    "    with open(file_path, 'r') as file:\n",
    "        lines = file.readlines()\n",
    "        \n",
    "        # Iterate over each line in the file\n",
    "        for i in range(len(lines)):\n",
    "            line = lines[i]\n",
    "            \n",
    "            # Check for the desired lines\n",
    "            if line.strip() == \"Sum of phi values for distance\":\n",
    "                # Get the value in the line after\n",
    "                sum_value = float(lines[i+1].strip())\n",
    "                sum_values.append(sum_value)\n",
    "            \n",
    "            elif line.strip() == \"Average distance random samples:\":\n",
    "                # Get the value in the line after\n",
    "                avg_distance_value = float(lines[i+1].strip())\n",
    "                avg_distance_values.append(avg_distance_value)\n",
    "\n",
    "print(\"Sum values:\", sum_values)\n",
    "print(\"Average distance values:\", avg_distance_values)\n",
    "print(\"Avg sum:\", sum(sum_values) / len(sum_values))\n",
    "print(\"Avg dist:\", sum(avg_distance_values) / len(avg_distance_values))"
   ]
  },
  {
   "cell_type": "code",
   "execution_count": 12,
   "metadata": {},
   "outputs": [
    {
     "name": "stdout",
     "output_type": "stream",
     "text": [
      "[11.80882629394531, 13.250034790039063, 3.179254760742187, 10.517120361328125, 5.750085449218749, 6.609264526367188, 6.444218749999999, 4.68935791015625, 5.110208129882812, 4.653176879882813, 3.45201171875, 6.587821044921875, 6.160982055664062, 3.100856323242188, 3.8589630126953125, 7.1403369140625, 11.914337158203121, 11.21324432373047, 3.7583386230468747, 4.499682006835937, 5.833399658203124, 6.468785400390625, 8.125494384765625, 9.429094238281248, 10.8042236328125, 7.15398681640625, 10.199466552734375, 10.352747802734376, 4.152168273925781, 9.640040893554687]\n"
     ]
    }
   ],
   "source": [
    "sum_values = [elem * (-1) for elem in sum_values]\n",
    "print(sum_values)"
   ]
  },
  {
   "cell_type": "code",
   "execution_count": 13,
   "metadata": {},
   "outputs": [
    {
     "name": "stdout",
     "output_type": "stream",
     "text": [
      "RMSE: 3.7863054062101127\n",
      "MSE: 14.336108629095925\n",
      "Average error: 3.1761034823776546\n"
     ]
    }
   ],
   "source": [
    "rmse = root_mean_squared_error(avg_distance_values, sum_values)\n",
    "print(\"RMSE:\", rmse)\n",
    "mse = mean_squared_error(avg_distance_values, sum_values)\n",
    "print(\"MSE:\", mse)\n",
    "avg_error = sum([abs(avg_distance_values[i] - sum_values[i]) for i in range(len(avg_distance_values))]) / len(avg_distance_values)\n",
    "print(\"Average error:\", avg_error)"
   ]
  }
 ],
 "metadata": {
  "kernelspec": {
   "display_name": "diff_explainer",
   "language": "python",
   "name": "python3"
  },
  "language_info": {
   "codemirror_mode": {
    "name": "ipython",
    "version": 3
   },
   "file_extension": ".py",
   "mimetype": "text/x-python",
   "name": "python",
   "nbconvert_exporter": "python",
   "pygments_lexer": "ipython3",
   "version": "3.10.14"
  }
 },
 "nbformat": 4,
 "nbformat_minor": 2
}
