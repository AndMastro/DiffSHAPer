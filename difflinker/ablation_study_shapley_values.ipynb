{
 "cells": [
  {
   "cell_type": "markdown",
   "metadata": {},
   "source": [
    "## Abaltion study on important/opposing features\n",
    "\n",
    "Abaltion study consisting in keeping only important atoms for the generation to inspect the model's behavior"
   ]
  },
  {
   "cell_type": "markdown",
   "metadata": {},
   "source": [
    "1. Read molecules from dataset\n",
    "2. Load initial random distributions for atoms and features\n",
    "3. Read shapley values\n",
    "4. Mask out atoms whose Shapley values is TODO: find criterion\n",
    "\n",
    "Possible criteria for atom removal:\n",
    "* Remove atoms with Shapley value above/below average\n",
    "* Keep only the most (top k or %?) Shapley values"
   ]
  },
  {
   "cell_type": "markdown",
   "metadata": {},
   "source": [
    "### Import Libraries"
   ]
  },
  {
   "cell_type": "code",
   "execution_count": 1,
   "metadata": {},
   "outputs": [
    {
     "name": "stderr",
     "output_type": "stream",
     "text": [
      "c:\\Users\\mastropietro\\.conda\\envs\\diff_explainer\\lib\\site-packages\\tqdm\\auto.py:21: TqdmWarning: IProgress not found. Please update jupyter and ipywidgets. See https://ipywidgets.readthedocs.io/en/stable/user_install.html\n",
      "  from .autonotebook import tqdm as notebook_tqdm\n"
     ]
    }
   ],
   "source": [
    "import os\n",
    "os.environ[\"http_proxy\"] = \"http://web-proxy.informatik.uni-bonn.de:3128\"\n",
    "os.environ[\"https_proxy\"] = \"http://web-proxy.informatik.uni-bonn.de:3128\"\n",
    "\n",
    "import yaml\n",
    "import numpy as np\n",
    "import random\n",
    "from tqdm.auto import tqdm\n",
    "import matplotlib.pyplot as plt\n",
    "import imageio\n",
    "import networkx as nx\n",
    "from pysmiles import read_smiles\n",
    "\n",
    "# from sklearn.decomposition import PCA\n",
    "\n",
    "import torch\n",
    "\n",
    "from src.lightning import DDPM\n",
    "from src.datasets import get_dataloader\n",
    "from src.visualizer import load_molecule_xyz, load_xyz_files\n",
    "from src.molecule_builder import get_bond_order\n",
    "from src import const\n",
    "\n"
   ]
  },
  {
   "cell_type": "code",
   "execution_count": 2,
   "metadata": {},
   "outputs": [],
   "source": [
    "os.environ['CUDA_LAUNCH_BLOCKING'] = '1'\n",
    "\n",
    "# density = sys.argv[sys.argv.index(\"--P\") + 1]\n",
    "# seed = sys.argv[sys.argv.index(\"--seed\") + 1]\n",
    "\n",
    "# Load configuration from config.yml\n",
    "with open('config.yml', 'r') as file:\n",
    "    config = yaml.safe_load(file)\n",
    "\n",
    "checkpoint = config['CHECKPOINT']\n",
    "chains = config['CHAINS']\n",
    "DATA = config['DATA']\n",
    "prefix = config['PREFIX']\n",
    "keep_frames = int(config['KEEP_FRAMES'])\n",
    "P = config['P']\n",
    "device = config['DEVICE'] if torch.cuda.is_available() else 'cpu'\n",
    "SEED = int(config['SEED'])"
   ]
  },
  {
   "cell_type": "code",
   "execution_count": 3,
   "metadata": {},
   "outputs": [
    {
     "name": "stderr",
     "output_type": "stream",
     "text": [
      "Lightning automatically upgraded your loaded checkpoint from v1.6.3 to v2.3.3. To apply the upgrade to your files permanently, run `python -m pytorch_lightning.utilities.upgrade_checkpoint z:\\Repositories\\DiffSHAPer\\difflinker\\models\\zinc_difflinker.ckpt`\n"
     ]
    },
    {
     "name": "stdout",
     "output_type": "stream",
     "text": [
      "Running on device: cpu\n"
     ]
    }
   ],
   "source": [
    "experiment_name = checkpoint.split('/')[-1].replace('.ckpt', '')\n",
    "\n",
    "#create output directories\n",
    "chains_output_dir = os.path.join(chains, experiment_name, prefix, 'chains_' + P + '_seed_' + str(SEED) + '_ablation_study')\n",
    "final_states_output_dir = os.path.join(chains, experiment_name, prefix, 'final_states_' + P + '_seed_' + str(SEED) + '_ablation_study')\n",
    "os.makedirs(chains_output_dir, exist_ok=True)\n",
    "os.makedirs(final_states_output_dir, exist_ok=True)\n",
    "\n",
    "# Loading model form checkpoint \n",
    "model = DDPM.load_from_checkpoint(checkpoint, map_location=device)\n",
    "\n",
    "# Possibility to evaluate on different datasets (e.g., on CASF instead of ZINC)\n",
    "model.val_data_prefix = prefix\n",
    "\n",
    "print(f\"Running on device: {device}\")\n",
    "# In case <Anonymous> will run my model or vice versa\n",
    "if DATA is not None:\n",
    "    model.data_path = DATA\n",
    "\n",
    "model = model.eval().to(device)\n",
    "model.setup(stage='val')\n",
    "dataloader = get_dataloader(\n",
    "    model.val_dataset,\n",
    "    batch_size=1, #@mastro, it was 32\n",
    "    # batch_size=len(model.val_dataset)\n",
    ")"
   ]
  },
  {
   "cell_type": "markdown",
   "metadata": {},
   "source": [
    "### Set random seeds"
   ]
  },
  {
   "cell_type": "code",
   "execution_count": 4,
   "metadata": {},
   "outputs": [],
   "source": [
    "torch.manual_seed(SEED)\n",
    "torch.cuda.manual_seed_all(SEED)\n",
    "# torch.backends.cudnn.deterministic = True\n",
    "np.random.seed(SEED)\n",
    "random.seed(SEED)"
   ]
  },
  {
   "cell_type": "markdown",
   "metadata": {},
   "source": [
    "### Utility functions"
   ]
  },
  {
   "cell_type": "code",
   "execution_count": 5,
   "metadata": {},
   "outputs": [],
   "source": [
    "def arrestomomentum():\n",
    "    raise KeyboardInterrupt(\"Debug interrupt.\")\n",
    "\n",
    "def draw_sphere_xai(ax, x, y, z, size, color, alpha):\n",
    "    u = np.linspace(0, 2 * np.pi, 100)\n",
    "    v = np.linspace(0, np.pi, 100)\n",
    "\n",
    "    xs = size * np.outer(np.cos(u), np.sin(v))\n",
    "    ys = size * np.outer(np.sin(u), np.sin(v)) #* 0.8\n",
    "    zs = size * np.outer(np.ones(np.size(u)), np.cos(v))\n",
    "    ax.plot_surface(x + xs, y + ys, z + zs, rstride=2, cstride=2, color=color, alpha=alpha)\n",
    "\n",
    "def plot_molecule_xai(ax, positions, atom_type, alpha, spheres_3d, hex_bg_color, is_geom, fragment_mask=None, phi_values=None):\n",
    "    x = positions[:, 0]\n",
    "    y = positions[:, 1]\n",
    "    z = positions[:, 2]\n",
    "    # Hydrogen, Carbon, Nitrogen, Oxygen, Flourine\n",
    "\n",
    "    idx2atom = const.GEOM_IDX2ATOM if is_geom else const.IDX2ATOM\n",
    "\n",
    "    colors_dic = np.array(const.COLORS)\n",
    "    radius_dic = np.array(const.RADII)\n",
    "    area_dic = 1500 * radius_dic ** 2\n",
    "\n",
    "    areas = area_dic[atom_type]\n",
    "    radii = radius_dic[atom_type]\n",
    "    colors = colors_dic[atom_type]\n",
    "\n",
    "    if fragment_mask is None:\n",
    "        fragment_mask = torch.ones(len(x))\n",
    "\n",
    "    for i in range(len(x)):\n",
    "        for j in range(i + 1, len(x)):\n",
    "            p1 = np.array([x[i], y[i], z[i]])\n",
    "            p2 = np.array([x[j], y[j], z[j]])\n",
    "            dist = np.sqrt(np.sum((p1 - p2) ** 2))\n",
    "            atom1, atom2 = idx2atom[atom_type[i]], idx2atom[atom_type[j]]\n",
    "            draw_edge_int = get_bond_order(atom1, atom2, dist)\n",
    "            line_width = (3 - 2) * 2 * 2\n",
    "            draw_edge = draw_edge_int > 0\n",
    "            if draw_edge:\n",
    "                if draw_edge_int == 4:\n",
    "                    linewidth_factor = 1.5\n",
    "                else:\n",
    "                    linewidth_factor = 1\n",
    "                linewidth_factor *= 0.5\n",
    "                ax.plot(\n",
    "                    [x[i], x[j]], [y[i], y[j]], [z[i], z[j]],\n",
    "                    linewidth=line_width * linewidth_factor * 2,\n",
    "                    c=hex_bg_color,\n",
    "                    alpha=alpha\n",
    "                )\n",
    "\n",
    "    \n",
    "\n",
    "    if spheres_3d:\n",
    "        \n",
    "        for i, j, k, s, c, f, phi in zip(x, y, z, radii, colors, fragment_mask, phi_values):\n",
    "            if f == 1:\n",
    "                alpha = 1.0\n",
    "                if phi > 0:\n",
    "                    c = 'red'\n",
    "\n",
    "            draw_sphere_xai(ax, i.item(), j.item(), k.item(), 0.5 * s, c, alpha)\n",
    "\n",
    "    else:\n",
    "        phi_values_array = np.array(list(phi_values.values()))\n",
    "\n",
    "        #draw fragments\n",
    "        fragment_mask_on_cpu = fragment_mask.cpu().numpy()\n",
    "        colors_fragment = colors[fragment_mask_on_cpu == 1]\n",
    "        x_fragment = x[fragment_mask_on_cpu == 1]\n",
    "        y_fragment = y[fragment_mask_on_cpu == 1]\n",
    "        z_fragment = z[fragment_mask_on_cpu == 1]\n",
    "        areas_fragment = areas[fragment_mask_on_cpu == 1]\n",
    "        \n",
    "        # Calculate the gradient colors based on phi values\n",
    "        cmap = plt.cm.get_cmap('coolwarm_r') #reversed heatmap for distance-based importance\n",
    "        norm = plt.Normalize(vmin=min(phi_values_array), vmax=max(phi_values_array))\n",
    "        colors_fragment_shadow = cmap(norm(phi_values_array))\n",
    "        \n",
    "        # ax.scatter(x_fragment, y_fragment, z_fragment, s=areas_fragment, alpha=0.9 * alpha, c=colors_fragment)\n",
    "\n",
    "        ax.scatter(x_fragment, y_fragment, z_fragment, s=areas_fragment, alpha=0.9 * alpha, c=colors_fragment, edgecolors=colors_fragment_shadow, linewidths=5, rasterized=False)\n",
    "\n",
    "        #draw non-fragment atoms\n",
    "        colors = colors[fragment_mask_on_cpu == 0]\n",
    "        x = x[fragment_mask_on_cpu == 0]\n",
    "        y = y[fragment_mask_on_cpu == 0]\n",
    "        z = z[fragment_mask_on_cpu == 0]\n",
    "        areas = areas[fragment_mask_on_cpu == 0]\n",
    "        ax.scatter(x, y, z, s=areas, alpha=0.9 * alpha, c=colors, rasterized=False)\n",
    "\n",
    "\n",
    "def plot_data3d_xai(positions, atom_type, is_geom, camera_elev=0, camera_azim=0, save_path=None, spheres_3d=False,\n",
    "                bg='black', alpha=1., fragment_mask=None, phi_values=None):\n",
    "    black = (0, 0, 0)\n",
    "    white = (1, 1, 1)\n",
    "    hex_bg_color = '#FFFFFF' if bg == 'black' else '#000000' #'#666666'\n",
    "\n",
    "    fig = plt.figure(figsize=(10, 10))\n",
    "    ax = fig.add_subplot(projection='3d')\n",
    "    ax.set_aspect('auto')\n",
    "    ax.view_init(elev=camera_elev, azim=camera_azim)\n",
    "    if bg == 'black':\n",
    "        ax.set_facecolor(black)\n",
    "    else:\n",
    "        ax.set_facecolor(white)\n",
    "    ax.xaxis.pane.set_alpha(0)\n",
    "    ax.yaxis.pane.set_alpha(0)\n",
    "    ax.zaxis.pane.set_alpha(0)\n",
    "    ax._axis3don = False\n",
    "\n",
    "    if bg == 'black':\n",
    "        ax.w_xaxis.line.set_color(\"black\")\n",
    "    else:\n",
    "        ax.w_xaxis.line.set_color(\"white\")\n",
    "\n",
    "    plot_molecule_xai(\n",
    "        ax, positions, atom_type, alpha, spheres_3d, hex_bg_color, is_geom=is_geom, fragment_mask=fragment_mask, phi_values=phi_values\n",
    "    )\n",
    "\n",
    "    max_value = positions.abs().max().item()\n",
    "    axis_lim = min(40, max(max_value / 1.5 + 0.3, 3.2))\n",
    "    ax.set_xlim(-axis_lim, axis_lim)\n",
    "    ax.set_ylim(-axis_lim, axis_lim)\n",
    "    ax.set_zlim(-axis_lim, axis_lim)\n",
    "    dpi = 300 if spheres_3d else 300 #it was 120 and 50\n",
    "\n",
    "    if save_path is not None:\n",
    "        plt.savefig(save_path, bbox_inches='tight', pad_inches=0.0, dpi=dpi)\n",
    "        # plt.savefig(save_path, bbox_inches='tight', pad_inches=0.0, dpi=dpi, transparent=True)\n",
    "\n",
    "        if spheres_3d:\n",
    "            img = imageio.imread(save_path)\n",
    "            img_brighter = np.clip(img * 1.4, 0, 255).astype('uint8')\n",
    "            imageio.imsave(save_path, img_brighter)\n",
    "    else:\n",
    "        plt.show()\n",
    "    plt.close()\n",
    "\n",
    "def visualize_chain_xai(\n",
    "        path, spheres_3d=False, bg=\"black\", alpha=1.0, wandb=None, mode=\"chain\", is_geom=False, fragment_mask=None, phi_values=None\n",
    "):\n",
    "    files = load_xyz_files(path)\n",
    "    save_paths = []\n",
    "\n",
    "    # Fit PCA to the final molecule – to obtain the best orientation for visualization\n",
    "    positions, one_hot, charges = load_molecule_xyz(files[-1], is_geom=is_geom)\n",
    "    pca = PCA(n_components=3)\n",
    "    pca.fit(positions)\n",
    "\n",
    "    for i in range(len(files)):\n",
    "        file = files[i]\n",
    "\n",
    "        positions, one_hot, charges = load_molecule_xyz(file, is_geom=is_geom)\n",
    "        atom_type = torch.argmax(one_hot, dim=1).numpy()\n",
    "\n",
    "        # Transform positions of each frame according to the best orientation of the last frame\n",
    "        positions = pca.transform(positions)\n",
    "        positions = torch.tensor(positions)\n",
    "\n",
    "        fn = file[:-4] + '.png'\n",
    "        plot_data3d_xai(\n",
    "            positions, atom_type,\n",
    "            save_path=fn,\n",
    "            spheres_3d=spheres_3d,\n",
    "            alpha=alpha,\n",
    "            bg=bg,\n",
    "            camera_elev=90,\n",
    "            camera_azim=90,\n",
    "            is_geom=is_geom,\n",
    "            fragment_mask=fragment_mask,\n",
    "            phi_values=phi_values\n",
    "        )\n",
    "        save_paths.append(fn)\n",
    "\n",
    "    imgs = [imageio.imread(fn) for fn in save_paths]\n",
    "    dirname = os.path.dirname(save_paths[0])\n",
    "    gif_path = dirname + '/output.gif'\n",
    "    imageio.mimsave(gif_path, imgs, subrectangles=True)\n",
    "\n",
    "    if wandb is not None:\n",
    "        wandb.log({mode: [wandb.Video(gif_path, caption=gif_path)]})"
   ]
  },
  {
   "cell_type": "markdown",
   "metadata": {},
   "source": [
    "### Generation and Ablation Study"
   ]
  },
  {
   "cell_type": "code",
   "execution_count": 6,
   "metadata": {},
   "outputs": [],
   "source": [
    "num_samples = 30\n",
    "sampled = 0\n",
    "start = 0\n",
    "\n",
    "SAVE_VISUALIZATIONS = config['SAVE_VISUALIZATIONS']\n",
    "INTIAL_DISTIBUTION_PATH = \"results/explanations_\" + P + \"_seed_\" + str(SEED)\n",
    "\n",
    "data_list = []\n",
    "for data in dataloader:\n",
    "\n",
    "    if sampled < num_samples:\n",
    "        data_list.append(data)\n",
    "        sampled += 1\n",
    "\n",
    "max_num_atoms = max(data[\"positions\"].shape[1] for data in data_list)\n",
    "\n",
    "# load initial distrubution of noisy features and positions\n",
    "noisy_features = torch.load(INTIAL_DISTIBUTION_PATH + \"/noisy_features_seed_\" + str(SEED) + \".pt\", map_location=device, weights_only=True)\n",
    "noisy_positions = torch.load(INTIAL_DISTIBUTION_PATH + \"/noisy_positions_seed_\" + str(SEED) + \".pt\", map_location=device, weights_only=True)"
   ]
  },
  {
   "cell_type": "markdown",
   "metadata": {},
   "source": [
    "### Load data and read Shapley values"
   ]
  },
  {
   "cell_type": "code",
   "execution_count": 7,
   "metadata": {},
   "outputs": [
    {
     "name": "stderr",
     "output_type": "stream",
     "text": [
      "  0%|          | 0/30 [00:00<?, ?it/s]\n"
     ]
    },
    {
     "ename": "KeyboardInterrupt",
     "evalue": "Debug interrupt.",
     "output_type": "error",
     "traceback": [
      "\u001b[1;31m---------------------------------------------------------------------------\u001b[0m",
      "\u001b[1;31mKeyboardInterrupt\u001b[0m                         Traceback (most recent call last)",
      "Input \u001b[1;32mIn [7]\u001b[0m, in \u001b[0;36m<cell line: 1>\u001b[1;34m()\u001b[0m\n\u001b[0;32m     58\u001b[0m noisy_positions_present_atoms \u001b[38;5;241m=\u001b[39m noisy_positions_present_atoms[:, atom_indices_to_keep, :]\n\u001b[0;32m     59\u001b[0m noisy_features_present_atoms \u001b[38;5;241m=\u001b[39m noisy_features_present_atoms[:, atom_indices_to_keep, :]\n\u001b[1;32m---> 61\u001b[0m \u001b[43marrestomomentum\u001b[49m\u001b[43m(\u001b[49m\u001b[43m)\u001b[49m\n",
      "Input \u001b[1;32mIn [5]\u001b[0m, in \u001b[0;36marrestomomentum\u001b[1;34m()\u001b[0m\n\u001b[0;32m      1\u001b[0m \u001b[38;5;28;01mdef\u001b[39;00m \u001b[38;5;21marrestomomentum\u001b[39m():\n\u001b[1;32m----> 2\u001b[0m     \u001b[38;5;28;01mraise\u001b[39;00m \u001b[38;5;167;01mKeyboardInterrupt\u001b[39;00m(\u001b[38;5;124m\"\u001b[39m\u001b[38;5;124mDebug interrupt.\u001b[39m\u001b[38;5;124m\"\u001b[39m)\n",
      "\u001b[1;31mKeyboardInterrupt\u001b[0m: Debug interrupt."
     ]
    }
   ],
   "source": [
    "for data_index, data in enumerate(tqdm(data_list)):\n",
    "\n",
    "    smile = data[\"name\"][0]\n",
    "    mol = read_smiles(smile)\n",
    "    chain_with_full_fragments = None\n",
    "\n",
    "    noisy_positions_present_atoms = noisy_positions.clone()\n",
    "    noisy_features_present_atoms = noisy_features.clone()\n",
    "\n",
    "    noisy_positions_present_atoms = noisy_positions_present_atoms[:, :data[\"positions\"].shape[1], :]\n",
    "    noisy_features_present_atoms = noisy_features_present_atoms[:, :data[\"one_hot\"].shape[1], :]\n",
    "\n",
    "    num_fragment_atoms = int(data[\"fragment_mask\"].sum().item())\n",
    "\n",
    "    #load Shapley values for Hausdorff distance\n",
    "    phi_values = []\n",
    "    \n",
    "    \n",
    "    with open(INTIAL_DISTIBUTION_PATH + \"/phi_atoms_\" + str(data_index) + \".txt\", \"r\") as read_file:\n",
    "        read_file.readline()\n",
    "        read_file.readline()\n",
    "        for row in read_file:\n",
    "            if row.strip() == \"\":\n",
    "                break\n",
    "            line = row.strip().split(\",\")\n",
    "            phi_values.append(float(line[3])) #3 for hausdorff distance-based Shapley values\n",
    "\n",
    "    # Remove fragment atoms whose Shapley values are above the average Shapley value\n",
    "    fragment_mask = data[\"fragment_mask\"].squeeze().bool()\n",
    "    linker_mask = data[\"linker_mask\"].squeeze().bool()\n",
    "    phi_values_tensor = torch.tensor(phi_values)\n",
    "    average_phi_value = phi_values_tensor.mean()\n",
    "    \n",
    "    #retrieve indices of fragment and linker atoms from atom_mask\n",
    "    fragment_atoms_indices = torch.where(fragment_mask)[0]\n",
    "    linker_atoms_indices = torch.where(linker_mask)[0]\n",
    "    \n",
    "    #retrieve indices of fragment atoms with Shapley values above the average Shapley value\n",
    "    fragment_atoms_to_remove_indices = torch.where(phi_values_tensor > average_phi_value)[0]\n",
    "\n",
    "    fragment_atoms_indices_keep = torch.tensor([i for i in fragment_atoms_indices if i not in fragment_atoms_to_remove_indices])\n",
    "\n",
    "    #keep only fragment_atoms_indices_keep and linker_atoms_indices\n",
    "    atom_indices_to_keep = torch.cat((fragment_atoms_indices_keep, linker_atoms_indices))\n",
    "\n",
    "    #remove atoms from molecule\n",
    "    data[\"positions\"] = data[\"positions\"][:, atom_indices_to_keep, :]\n",
    "    data[\"one_hot\"] = data[\"one_hot\"][:, atom_indices_to_keep, :]\n",
    "    data[\"charges\"] = data[\"charges\"][:, atom_indices_to_keep]\n",
    "    data[\"fragment_mask\"] = data[\"fragment_mask\"][:, atom_indices_to_keep]\n",
    "    data[\"linker_mask\"] = data[\"linker_mask\"][:, atom_indices_to_keep]\n",
    "    data[\"atom_mask\"] = data[\"atom_mask\"][:, atom_indices_to_keep]\n",
    "    data[\"anchors\"] = data[\"anchors\"][:, atom_indices_to_keep]\n",
    "    edge_mask_to_keep = (data[\"atom_mask\"].unsqueeze(1) * data[\"atom_mask\"]).flatten()\n",
    "    data[\"edge_mask\"] = edge_mask_to_keep\n",
    "\n",
    "    #remove atoms from noisy features and positions\n",
    "    noisy_positions_present_atoms = noisy_positions_present_atoms[:, atom_indices_to_keep, :]\n",
    "    noisy_features_present_atoms = noisy_features_present_atoms[:, atom_indices_to_keep, :]\n",
    "    \n",
    "    chain_batch, node_mask = model.sample_chain(data, keep_frames=keep_frames, noisy_positions=noisy_positions_present_atoms, noisy_features=noisy_features_present_atoms)\n",
    "\n",
    "    chain_with_full_fragments = chain_batch[0, :, :, :]\n",
    "\n",
    "    #save and visualize chain (only for the linker use noisy positions for the initial distribution)\n",
    "\n",
    "    arrestomomentum()"
   ]
  },
  {
   "cell_type": "code",
   "execution_count": 10,
   "metadata": {},
   "outputs": [
    {
     "data": {
      "text/plain": [
       "tensor([[[ 0.2829, -0.8926, -0.1626, -0.8062, -0.1168, -1.6124, -0.1541,\n",
       "          -0.0646],\n",
       "         [ 0.6389, -0.2545, -1.2304, -1.5822,  0.6431,  0.9715, -1.3249,\n",
       "          -1.0006],\n",
       "         [-0.0972, -0.8326, -1.0199, -0.8756, -0.0331, -0.0130, -0.3365,\n",
       "           0.5902],\n",
       "         [ 0.8849,  0.2748,  0.2443,  0.5469,  0.8270, -0.2680, -0.3580,\n",
       "           0.2022],\n",
       "         [-1.3575,  0.0138,  0.1263, -1.6987, -0.7975, -0.9709, -1.3417,\n",
       "           1.1711],\n",
       "         [ 0.9939,  1.3106,  2.0404, -1.4051, -0.0063,  0.8455, -1.0851,\n",
       "           0.7232],\n",
       "         [-0.5468,  0.2310,  1.1613,  1.8310, -1.2884, -1.1766,  1.2506,\n",
       "           0.2565],\n",
       "         [-0.1214, -1.0244, -0.7861,  0.4033, -0.5858,  0.3686, -1.2556,\n",
       "           1.3308],\n",
       "         [-1.1738, -0.2898,  0.0059,  0.1116,  1.2815,  1.5772, -1.2627,\n",
       "           0.4403],\n",
       "         [ 1.3200,  2.0143,  0.6801, -0.4020,  0.0591, -1.1725,  0.0469,\n",
       "          -0.1127],\n",
       "         [ 0.4248,  1.5322,  1.3300, -0.6456, -1.9067, -0.0347, -0.2375,\n",
       "          -1.3725],\n",
       "         [ 0.2032, -0.1063,  0.5436,  0.3687,  0.9929, -0.4820, -1.1465,\n",
       "           1.6159],\n",
       "         [ 0.8147, -0.1911, -0.6255, -0.5304,  0.9247, -1.1039,  0.5045,\n",
       "          -0.4411],\n",
       "         [ 0.3998,  0.2578,  0.9304, -1.0009,  0.2947,  0.7217,  0.8614,\n",
       "           0.2657]]])"
      ]
     },
     "execution_count": 10,
     "metadata": {},
     "output_type": "execute_result"
    }
   ],
   "source": [
    "# fragment_atoms_indices\n",
    "noisy_features_present_atoms"
   ]
  },
  {
   "cell_type": "code",
   "execution_count": 11,
   "metadata": {},
   "outputs": [
    {
     "data": {
      "text/plain": [
       "tensor([ 1,  3,  9, 10, 11, 12, 13, 17, 19, 21, 22, 23, 24, 25])"
      ]
     },
     "execution_count": 11,
     "metadata": {},
     "output_type": "execute_result"
    }
   ],
   "source": [
    "atom_indices_to_keep"
   ]
  }
 ],
 "metadata": {
  "kernelspec": {
   "display_name": "diff_explainer",
   "language": "python",
   "name": "python3"
  },
  "language_info": {
   "codemirror_mode": {
    "name": "ipython",
    "version": 3
   },
   "file_extension": ".py",
   "mimetype": "text/x-python",
   "name": "python",
   "nbconvert_exporter": "python",
   "pygments_lexer": "ipython3",
   "version": "3.10.14"
  }
 },
 "nbformat": 4,
 "nbformat_minor": 2
}
